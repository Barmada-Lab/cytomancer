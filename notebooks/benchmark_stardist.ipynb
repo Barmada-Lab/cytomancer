{
 "cells": [
  {
   "cell_type": "code",
   "execution_count": 1,
   "metadata": {},
   "outputs": [],
   "source": [
    "from pathlib import Path\n",
    "\n",
    "from skimage import morphology, exposure, filters\n",
    "import numpy as np\n",
    "\n",
    "from cytomancer.experiment import ExperimentType, Axes\n",
    "from cytomancer.utils import load_experiment\n",
    "\n",
    "path = Path(\"/nfs/bignasty/experiments/EKZ149\")\n",
    "experiment_type = ExperimentType.CQ1\n",
    "\n",
    "experiment = load_experiment(path, experiment_type)\n",
    "\n",
    "stack = experiment.isel({Axes.REGION: 0, Axes.FIELD: 0}).sel({Axes.CHANNEL: \"DAPI\"}).values\n",
    "\n",
    "def preprocess(stack):\n",
    "    eqd = np.array([exposure.equalize_adapthist(im, clip_limit=0.01) for im in stack])\n",
    "    rescaled = np.array([exposure.rescale_intensity(im, out_range=\"uint8\") for im in eqd])\n",
    "    med = np.array([filters.rank.median(im, morphology.disk(5)) for im in rescaled])\n",
    "    rescaled = np.array([exposure.rescale_intensity(im, out_range=\"float16\") for im in med])\n",
    "    return rescaled\n",
    "\n",
    "def pred(model, stack):\n",
    "    for im in stack:\n",
    "        model.predict_instances(im)\n",
    "\n",
    "eqd = preprocess(stack)\n"
   ]
  },
  {
   "cell_type": "code",
   "execution_count": 2,
   "metadata": {},
   "outputs": [
    {
     "name": "stderr",
     "output_type": "stream",
     "text": [
      "2024-05-10 12:36:51.088503: I tensorflow/core/util/port.cc:113] oneDNN custom operations are on. You may see slightly different numerical results due to floating-point round-off errors from different computation orders. To turn them off, set the environment variable `TF_ENABLE_ONEDNN_OPTS=0`.\n",
      "2024-05-10 12:36:51.105535: E external/local_xla/xla/stream_executor/cuda/cuda_dnn.cc:9261] Unable to register cuDNN factory: Attempting to register factory for plugin cuDNN when one has already been registered\n",
      "2024-05-10 12:36:51.105557: E external/local_xla/xla/stream_executor/cuda/cuda_fft.cc:607] Unable to register cuFFT factory: Attempting to register factory for plugin cuFFT when one has already been registered\n",
      "2024-05-10 12:36:51.106330: E external/local_xla/xla/stream_executor/cuda/cuda_blas.cc:1515] Unable to register cuBLAS factory: Attempting to register factory for plugin cuBLAS when one has already been registered\n",
      "2024-05-10 12:36:51.109812: I tensorflow/core/platform/cpu_feature_guard.cc:182] This TensorFlow binary is optimized to use available CPU instructions in performance-critical operations.\n",
      "To enable the following instructions: AVX2 AVX_VNNI FMA, in other operations, rebuild TensorFlow with the appropriate compiler flags.\n",
      "2024-05-10 12:36:51.629982: W tensorflow/compiler/tf2tensorrt/utils/py_utils.cc:38] TF-TRT Warning: Could not find TensorRT\n",
      "2024-05-10 12:36:52.450856: E external/local_xla/xla/stream_executor/cuda/cuda_driver.cc:274] failed call to cuInit: CUDA_ERROR_NO_DEVICE: no CUDA-capable device is detected\n",
      "2024-05-10 12:36:52.450880: I external/local_xla/xla/stream_executor/cuda/cuda_diagnostics.cc:129] retrieving CUDA diagnostic information for host: RDLR0025\n",
      "2024-05-10 12:36:52.450884: I external/local_xla/xla/stream_executor/cuda/cuda_diagnostics.cc:136] hostname: RDLR0025\n",
      "2024-05-10 12:36:52.450971: I external/local_xla/xla/stream_executor/cuda/cuda_diagnostics.cc:159] libcuda reported version is: 550.54.15\n",
      "2024-05-10 12:36:52.450983: I external/local_xla/xla/stream_executor/cuda/cuda_diagnostics.cc:163] kernel reported version is: 550.54.15\n",
      "2024-05-10 12:36:52.450986: I external/local_xla/xla/stream_executor/cuda/cuda_diagnostics.cc:241] kernel version seems to match DSO: 550.54.15\n"
     ]
    },
    {
     "name": "stdout",
     "output_type": "stream",
     "text": [
      "Using default values: prob_thresh=0.5, nms_thresh=0.4.\n",
      "Found model '2D_versatile_fluo' for 'StarDist2D'.\n",
      "Loading network weights from 'weights_best.h5'.\n",
      "Loading thresholds from 'thresholds.json'.\n",
      "Using default values: prob_thresh=0.479071, nms_thresh=0.3.\n",
      "CPU times: user 20 s, sys: 189 ms, total: 20.2 s\n",
      "Wall time: 5.04 s\n"
     ]
    }
   ],
   "source": [
    "\"\"\" CPU - restart kernel if testing after GPU \"\"\"\n",
    "import os\n",
    "\n",
    "os.environ[\"CUDA_VISIBLE_DEVICES\"] = \"-1\"\n",
    "import tensorflow as tf\n",
    "tf.config.threading.set_intra_op_parallelism_threads(4)\n",
    "from stardist.models import StarDist2D, Config2D\n",
    "\n",
    "model = StarDist2D().from_pretrained(\"2D_versatile_fluo\")\n",
    "model.predict_instances(eqd[0])\n",
    "\n",
    "%time pred(model, eqd)"
   ]
  },
  {
   "cell_type": "code",
   "execution_count": null,
   "metadata": {},
   "outputs": [],
   "source": []
  }
 ],
 "metadata": {
  "kernelspec": {
   "display_name": "cytomancer-Wq-4wEMG-py3.11",
   "language": "python",
   "name": "python3"
  },
  "language_info": {
   "codemirror_mode": {
    "name": "ipython",
    "version": 3
   },
   "file_extension": ".py",
   "mimetype": "text/x-python",
   "name": "python",
   "nbconvert_exporter": "python",
   "pygments_lexer": "ipython3",
   "version": "3.11.8"
  }
 },
 "nbformat": 4,
 "nbformat_minor": 2
}
