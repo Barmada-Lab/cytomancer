{
 "cells": [
  {
   "cell_type": "code",
   "execution_count": null,
   "id": "f9e85c80-5c86-44a4-a110-ab175261dd37",
   "metadata": {},
   "outputs": [],
   "source": [
    "from improc.utils.experiments import loader, dataset, tags\n",
    "from improc.processes import brightfield\n",
    "\n",
    "import tifffile\n",
    "import pathlib\n",
    "import os\n",
    "\n",
    "%run utils/experiment_chooser.ipynb\n",
    "experiment_chooser.choose()"
   ]
  },
  {
   "cell_type": "code",
   "execution_count": null,
   "id": "85a65ccd-a35e-4c7c-b5b0-e6dd43a94b29",
   "metadata": {},
   "outputs": [],
   "source": [
    "experiment = experiment_chooser.fetch()\n",
    "experiment_base = experiment_chooser.fetch_base()\n",
    "\n",
    "OUTPUT_PATH = experiment_base / \"processed_imgs\" / \"brightfield_preprocessed\"\n",
    "os.makedirs(OUTPUT_PATH, exist_ok=True)\n",
    "\n",
    "processed = experiment.datasets[1]\n",
    "stitched = list(dataset.select_by_tags(processed.images, tags.Mosaic))\n",
    "stitched_not_stacked = list(dataset.filter_tags(stitched, tags.Stack))\n",
    "for idx, orig in enumerate(stitched_not_stacked):\n",
    "    preprocessed = brightfield.ineuron_preprocess(orig.load())\n",
    "    vertex: tags.Vertex = orig.get_tag(tags.Vertex)\n",
    "    channel: tags.Channel = orig.get_tag(tags.Channel)\n",
    "    time: tags.Timepoint = orig.get_tag(tags.Timepoint)\n",
    "    tifffile.imwrite(OUTPUT_PATH / f\"{vertex.label}-{channel.value}-{time.index}.tif\", preprocessed)\n",
    "    print(\"\\r\", end=\"\")\n",
    "    print(f\"Brightfield preprocessing: {idx + 1} / {len(stitched_not_stacked)}\", end=\"\")"
   ]
  },
  {
   "cell_type": "code",
   "execution_count": null,
   "id": "1852615c-73e9-4c9b-9038-41e4ec9d0d92",
   "metadata": {},
   "outputs": [],
   "source": []
  }
 ],
 "metadata": {
  "kernelspec": {
   "display_name": "barma",
   "language": "python",
   "name": "barma"
  },
  "language_info": {
   "codemirror_mode": {
    "name": "ipython",
    "version": 3
   },
   "file_extension": ".py",
   "mimetype": "text/x-python",
   "name": "python",
   "nbconvert_exporter": "python",
   "pygments_lexer": "ipython3",
   "version": "3.10.6"
  }
 },
 "nbformat": 4,
 "nbformat_minor": 5
}
