{
 "cells": [
  {
   "cell_type": "markdown",
   "id": "1934b5d7-5349-441e-8d12-e726665908a5",
   "metadata": {},
   "source": [
    "# How to generate cell survival data for a brightfield experiment\n",
    "\n",
    "Overview:\n",
    "\n",
    "1. stitch \n",
    "2. brightfield preprocessing\n",
    "3. stack\n",
    "4. count + track with ilastik\n",
    "5. convert outputs\n",
    "\n",
    "### Step 0: choose your experiment"
   ]
  },
  {
   "cell_type": "code",
   "execution_count": null,
   "id": "3b463949-64c5-44a2-88b8-77728199c214",
   "metadata": {},
   "outputs": [],
   "source": [
    "%run utils/experiment_chooser.ipynb\n",
    "experiment_chooser.choose()"
   ]
  },
  {
   "cell_type": "markdown",
   "id": "24a3b416-5a27-466c-8194-c5f1980f2beb",
   "metadata": {},
   "source": [
    "### Step 1: stitch"
   ]
  },
  {
   "cell_type": "markdown",
   "id": "6254975f-caab-4b3b-913f-43c62fa60d5f",
   "metadata": {},
   "source": [
    "### Step 2: brightfield preprocessing\n",
    "run the following cell. You should see stacks of images created in your experiment's processed_imgs/brightfield_preprocessed directory.\n",
    "\n",
    "Thes images are corrected for uneven illumination and have their structural elements hilighted to make them better for use with ilastik's classifiers."
   ]
  },
  {
   "cell_type": "code",
   "execution_count": null,
   "id": "2ab830c8-9e34-4c2c-902b-b236878ad073",
   "metadata": {},
   "outputs": [],
   "source": [
    "%run brightfield_prep.ipynb"
   ]
  },
  {
   "cell_type": "markdown",
   "id": "a8c5eaf6-b537-4b2f-888e-831c6404450f",
   "metadata": {},
   "source": [
    "### Step 3: stack\n",
    "stitch your experiment, then run the following cell. You should see stacks of images created in your experiment's processed_imgs/stacked directory."
   ]
  },
  {
   "cell_type": "code",
   "execution_count": null,
   "id": "b7c6afdd-03b5-4e37-9c81-f3aa6ad23661",
   "metadata": {},
   "outputs": [],
   "source": [
    "%run stack.ipynb"
   ]
  },
  {
   "cell_type": "markdown",
   "id": "5120e74a-b867-4fdc-8f8e-7411247f8599",
   "metadata": {},
   "source": [
    "### Step 4: run ilmatic\n",
    "\n",
    "ilmatic (ILastik autoMATIC) will do some stuff. You should end up with object probabilities and tracks."
   ]
  },
  {
   "cell_type": "code",
   "execution_count": null,
   "id": "1dc11165-bcba-482d-a963-fb4a6b4fb503",
   "metadata": {},
   "outputs": [],
   "source": [
    "%run ilmatic_survival.ipynb"
   ]
  },
  {
   "cell_type": "markdown",
   "id": "d2f8c6e6-4397-4420-880d-2ed57ea177a8",
   "metadata": {},
   "source": [
    "### Step 5: Convert outputs\n",
    "\n",
    "run the following cell. Once it's done, you should see a new file called \"survival_data.csv\" created in your experiment's results directory."
   ]
  },
  {
   "cell_type": "code",
   "execution_count": null,
   "id": "b5f62da4-92e2-4d5e-9543-9932c4769bc5",
   "metadata": {},
   "outputs": [],
   "source": [
    "%run ilastik_2_barma.ipynb"
   ]
  }
 ],
 "metadata": {
  "kernelspec": {
   "display_name": "barma",
   "language": "python",
   "name": "barma"
  },
  "language_info": {
   "codemirror_mode": {
    "name": "ipython",
    "version": 3
   },
   "file_extension": ".py",
   "mimetype": "text/x-python",
   "name": "python",
   "nbconvert_exporter": "python",
   "pygments_lexer": "ipython3",
   "version": "3.10.5"
  }
 },
 "nbformat": 4,
 "nbformat_minor": 5
}
