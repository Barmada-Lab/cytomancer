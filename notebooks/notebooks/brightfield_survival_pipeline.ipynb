{
 "cells": [
  {
   "cell_type": "markdown",
   "id": "c1963a2b-0f81-45ff-b312-c6517e52e980",
   "metadata": {},
   "source": [
    "## Running the brightfield survival pipeline\n",
    "\n",
    "1. Run the cells below by pressing shift + enter. \n",
    "2. Open r_survival_analysis.ipynb, change EXPERIMENT_NAME to the name of your experiment directory (assuming it's on turbo), and run.\n",
    "3. Results will be found in your experiment's results folder"
   ]
  },
  {
   "cell_type": "code",
   "execution_count": null,
   "id": "e70be375-081b-4da8-9a85-2df763cc4397",
   "metadata": {},
   "outputs": [],
   "source": [
    "%run utils/experiment_chooser.ipynb\n",
    "experiment_chooser.choose()"
   ]
  },
  {
   "cell_type": "code",
   "execution_count": null,
   "id": "a38c3c88-039d-4e57-853b-498b019b8c5f",
   "metadata": {},
   "outputs": [],
   "source": [
    "from improc.processes import Pipeline, BaSiC, Stitch, Brightfield_iNeuron_Preprocess, Stack, SurvivalAnalysis\n",
    "\n",
    "try:\n",
    "    from notebooks.config.local import ILASTIK_BINARY, ILASTIK_CLASSIFIERS\n",
    "except Exception:\n",
    "    from notebooks.config.default import ILASTIK_BINARY, ILASTIK_CLASSIFIERS\n",
    "\n",
    "experiment = experiment_chooser.fetch()\n",
    "classifier_path = experiment.experiment_dir\n",
    "    \n",
    "pipeline = Pipeline(\n",
    "    BaSiC(),\n",
    "    Stitch(),\n",
    "    Brightfield_iNeuron_Preprocess(),\n",
    "    Stack(),\n",
    "    SurvivalAnalysis(classifier_path, ILASTIK_BINARY)\n",
    ")\n",
    "\n",
    "pipeline.run(experiment, \"raw_imgs\")"
   ]
  },
  {
   "cell_type": "code",
   "execution_count": null,
   "id": "49679595-01db-45c7-9355-b95aac9f8cd2",
   "metadata": {},
   "outputs": [],
   "source": []
  }
 ],
 "metadata": {
  "kernelspec": {
   "display_name": "barma",
   "language": "python",
   "name": "barma"
  },
  "language_info": {
   "codemirror_mode": {
    "name": "ipython",
    "version": 3
   },
   "file_extension": ".py",
   "mimetype": "text/x-python",
   "name": "python",
   "nbconvert_exporter": "python",
   "pygments_lexer": "ipython3",
   "version": "3.10.6"
  }
 },
 "nbformat": 4,
 "nbformat_minor": 5
}
