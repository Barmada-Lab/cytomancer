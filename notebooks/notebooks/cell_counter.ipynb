{
 "cells": [
  {
   "cell_type": "code",
   "execution_count": null,
   "id": "224f55d5-efe3-4bdf-b93b-4987daba5741",
   "metadata": {},
   "outputs": [],
   "source": [
    "%run utils/experiment_chooser.ipynb\n",
    "experiment_chooser.choose()"
   ]
  },
  {
   "cell_type": "code",
   "execution_count": null,
   "id": "a0d00d13-0020-4fd6-af09-2728b4bf4c46",
   "metadata": {},
   "outputs": [],
   "source": [
    "from improc.survival.survival_analysis import SurvivalAnalyzer\n",
    "\n",
    "%store -r experiment_base\n",
    "\n",
    "analyzer = SurvivalAnalyzer(str(experiment_base))\n",
    "analyzer.analyze()"
   ]
  }
 ],
 "metadata": {
  "kernelspec": {
   "display_name": "barma",
   "language": "python",
   "name": "barma"
  },
  "language_info": {
   "codemirror_mode": {
    "name": "ipython",
    "version": 3
   },
   "file_extension": ".py",
   "mimetype": "text/x-python",
   "name": "python",
   "nbconvert_exporter": "python",
   "pygments_lexer": "ipython3",
   "version": "3.10.5"
  }
 },
 "nbformat": 4,
 "nbformat_minor": 5
}
