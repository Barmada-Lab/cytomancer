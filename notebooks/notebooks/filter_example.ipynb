{
 "cells": [
  {
   "cell_type": "code",
   "execution_count": null,
   "id": "53e734bb-6825-4cfa-99b4-7ba771c19caa",
   "metadata": {},
   "outputs": [],
   "source": [
    "%run utils/experiment_chooser.ipynb\n",
    "experiment_chooser.choose()"
   ]
  },
  {
   "cell_type": "code",
   "execution_count": null,
   "id": "267315f9-9ba6-44fa-8427-ac8f34af90e8",
   "metadata": {},
   "outputs": [],
   "source": [
    "from pathlib import Path\n",
    "from improc.experiment import loader\n",
    "from improc.processes import Filter, Pipeline, BaSiC, Stitch, Stack, Measurement, Measurements\n",
    "from improc.processes.flatfield import RollingBall\n",
    "from improc.processes.brightfield import Brightfield_iNeuron_Preprocess\n",
    "\n",
    "try:\n",
    "    from config import local as config\n",
    "except:\n",
    "    from config import reference as config\n",
    "\n",
    "def filter_gfp(img):\n",
    "    return img.get_tag(Exposure).channel == Channel.GFP\n",
    "\n",
    "pipeline = Pipeline(\n",
    "    Filter(filter_gfp),\n",
    "    Stitch(),\n",
    "    Stack()\n",
    ")\n",
    "\n",
    "experiment = experiment_chooser.fetch()\n",
    "pipeline.run(experiment, \"raw_imgs\")"
   ]
  }
 ],
 "metadata": {
  "kernelspec": {
   "display_name": "Python 3 (ipykernel)",
   "language": "python",
   "name": "python3"
  },
  "language_info": {
   "codemirror_mode": {
    "name": "ipython",
    "version": 3
   },
   "file_extension": ".py",
   "mimetype": "text/x-python",
   "name": "python",
   "nbconvert_exporter": "python",
   "pygments_lexer": "ipython3",
   "version": "3.10.6"
  }
 },
 "nbformat": 4,
 "nbformat_minor": 5
}
