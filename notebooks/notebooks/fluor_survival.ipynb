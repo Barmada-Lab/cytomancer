{
 "cells": [
  {
   "cell_type": "markdown",
   "id": "c1963a2b-0f81-45ff-b312-c6517e52e980",
   "metadata": {},
   "source": [
    "## Running the fluorescent survival pipeline\n",
    "\n",
    "Run the first cell (click it and press shift+enter.) Select your experiment directory from the file browser.\n",
    "\n",
    "Run the second cell. When complete, check your experiment's results directory."
   ]
  },
  {
   "cell_type": "code",
   "execution_count": null,
   "id": "e70be375-081b-4da8-9a85-2df763cc4397",
   "metadata": {},
   "outputs": [],
   "source": [
    "%run utils/experiment_chooser.ipynb\n",
    "experiment_chooser.choose()"
   ]
  },
  {
   "cell_type": "code",
   "execution_count": null,
   "id": "a38c3c88-039d-4e57-853b-498b019b8c5f",
   "metadata": {},
   "outputs": [],
   "source": [
    "from improc.processes import Filter, Pipeline, BaSiC, Stitch, Stack, Measurement, Measurements\n",
    "from improc.processes.flatfield import RollingBall\n",
    "from improc.processes.legacy_survival.analysis import SurvivalAnalysis\n",
    "from improc.experiment.types import Channel, Timepoint, Exposure\n",
    "\n",
    "INPUT_DATASET = \"raw_imgs\"\n",
    "\n",
    "try:\n",
    "    from config.local import ILASTIK_BINARY, ILASTIK_CLASSIFIERS, MODEL_DIR, RSCRIPT_DIR\n",
    "except Exception:\n",
    "    from config.default import ILASTIK_BINARY, ILASTIK_CLASSIFIERS, MODEL_DIR, RSCRIPT_DIR\n",
    "\n",
    "model_path = MODEL_DIR / \"GFP_rat_neuron_disc.h5\"\n",
    "survival_script = RSCRIPT_DIR / \"survival.R\"\n",
    "\n",
    "measurements_to_take = [\n",
    "    Measurement(\n",
    "        channel=Channel.GFP,\n",
    "        mean=True,\n",
    "        std=True,\n",
    "        median=True,\n",
    "        pct_95=True,\n",
    "        area=True,\n",
    "        perimeter=True,\n",
    "        centroid=True,\n",
    "        skew=True,\n",
    "        kurtosis=True,\n",
    "        gradient_mean=True,\n",
    "        gradient_std=True,\n",
    "        aspect_ratio=True\n",
    "    )\n",
    "]\n",
    "\n",
    "pipeline = Pipeline(\n",
    "    RollingBall(radius=12),\n",
    "    Stitch(),\n",
    "    Stack(),\n",
    "    SurvivalAnalysis(model_path, survival_script),\n",
    "    Measurements(measurements_to_take)\n",
    ")\n",
    "\n",
    "experiment = experiment_chooser.fetch()"
   ]
  },
  {
   "cell_type": "code",
   "execution_count": null,
   "id": "8daa41f0-984f-428e-b553-3887249c61fc",
   "metadata": {},
   "outputs": [],
   "source": []
  }
 ],
 "metadata": {
  "kernelspec": {
   "display_name": "barma",
   "language": "python",
   "name": "barma"
  },
  "language_info": {
   "codemirror_mode": {
    "name": "ipython",
    "version": 3
   },
   "file_extension": ".py",
   "mimetype": "text/x-python",
   "name": "python",
   "nbconvert_exporter": "python",
   "pygments_lexer": "ipython3",
   "version": "3.10.6"
  }
 },
 "nbformat": 4,
 "nbformat_minor": 5
}
