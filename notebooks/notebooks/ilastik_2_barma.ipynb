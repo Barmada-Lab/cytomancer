{
 "cells": [
  {
   "cell_type": "code",
   "execution_count": null,
   "id": "7708bd21",
   "metadata": {
    "jupyter": {
     "outputs_hidden": false
    }
   },
   "outputs": [],
   "source": [
    "import h5py\n",
    "import matplotlib.pyplot as plt\n",
    "import numpy as np\n",
    "import cv2\n",
    "from collections import defaultdict\n",
    "import csv\n",
    "import os\n",
    "\n",
    "%run utils/experiment_chooser.ipynb\n",
    "experiment_chooser.choose()"
   ]
  },
  {
   "cell_type": "code",
   "execution_count": null,
   "id": "4927f1dd",
   "metadata": {
    "jupyter": {
     "outputs_hidden": false
    }
   },
   "outputs": [],
   "source": [
    "def track(labels_arr, tracking_arr):\n",
    "    lines = {k:[] for k in np.unique(tracking_arr[0]) if k > 0}\n",
    "    ctr = 0\n",
    "    for labels, tracking in zip(labels_arr, tracking_arr):\n",
    "        tp = {}\n",
    "        for _idx in np.argwhere(tracking != 0):\n",
    "            idx = tuple(_idx)\n",
    "            id = tracking[idx]\n",
    "            if id in tp: # skip if we've already recorded this id in this timepoint\n",
    "                continue\n",
    "            label = labels[idx]\n",
    "            tp[id] = label\n",
    "\n",
    "        for id, label in tp.items():\n",
    "            if id not in lines or len(lines[id]) != ctr:\n",
    "                continue\n",
    "            lines[id].append(label)\n",
    "\n",
    "        ctr += 1\n",
    "    return lines\n",
    "\n",
    "def get_wellspec(label, wells):\n",
    "    for wellspec in wells:\n",
    "        if wellspec.label == label:\n",
    "            return wellspec\n",
    "    return None\n",
    "        \n",
    "def format_row(well, line, line_id, tps):\n",
    "    censored = 0\n",
    "    # only look at live cells\n",
    "    if line[0] != 1:\n",
    "        return None\n",
    "\n",
    "    # censor zombies\n",
    "    if 2 in line:\n",
    "        idx = line.index(2)\n",
    "        if 1 in line[idx:]:\n",
    "            censored = 1\n",
    "\n",
    "    # observed death\n",
    "    dead_at = -1\n",
    "    for idx, label in enumerate(line):\n",
    "        if label == 2:\n",
    "            dead_at = idx\n",
    "            break\n",
    "\n",
    "    # unobserved death (segmentation fails)\n",
    "    if len(line) < tps and dead_at == -1:\n",
    "        censored = True\n",
    "\n",
    "    death_cause = 'death' if dead_at != -1 else 'NA'\n",
    "    event = bool(censored)\n",
    "    last_tp = tps if dead_at == -1 else dead_at + 1 # 1-indexed\n",
    "    last_time = last_tp\n",
    "\n",
    "    group = \"-\".join(drug.drug_label for drug in well.drugs)\n",
    "    if group == \"\":\n",
    "        group = \"NA\"\n",
    "    \n",
    "    row = {\n",
    "        \"well\": well.label, # well...\n",
    "        \"id\": line_id,\n",
    "        \"well-id\": f\"{well.label}-{line_id}\",\n",
    "        \"group\": group,\n",
    "        \"cell_type\": \"NA\",\n",
    "        \"drug\": \"NA\",\n",
    "        \"drug_conc\": \"NA\",\n",
    "        \"column\": \"NA\",\n",
    "        \"last_tp\": last_tp,\n",
    "        \"last_time\": last_time,\n",
    "        \"death_cause\": death_cause,\n",
    "        \"censored\": censored,\n",
    "        \"event\": event\n",
    "    }\n",
    "    \n",
    "    return row"
   ]
  },
  {
   "cell_type": "code",
   "execution_count": null,
   "id": "fc3fa904",
   "metadata": {
    "jupyter": {
     "outputs_hidden": false
    }
   },
   "outputs": [],
   "source": [
    "fieldnames = ['well','id','well-id','group','cell_type','drug','drug_conc','column','last_tp','last_time','death_cause','censored','event']\n",
    "experiment = experiment_chooser.fetch()\n",
    "experiment_base = experiment_chooser.fetch_base()\n",
    "output_dir = experiment_base / \"results\" \n",
    "os.makedirs(output_dir, exist_ok=True)\n",
    "\n",
    "label_paths = list((experiment_base / \"processed_imgs\" / \"object_predictions\").glob(\"*.h5\"))\n",
    "track_paths = list((experiment_base / \"processed_imgs\" / \"tracking\").glob(\"*.h5\"))\n",
    "\n",
    "with open(output_dir / \"survival_data.csv\", 'w', newline='') as csvfile:\n",
    "    writer = csv.DictWriter(csvfile, fieldnames=fieldnames)\n",
    "    writer.writeheader()\n",
    "    \n",
    "    label_track_paired = []\n",
    "    for label_e in label_paths:\n",
    "        for track_e in track_paths:\n",
    "            label_vertex = label_e.name\n",
    "            track_vertex = track_e.name\n",
    "            if label_vertex == track_vertex:\n",
    "                label_track_paired.append((label_e, track_e))\n",
    "    \n",
    "    for label_path, track_path in label_track_paired:\n",
    "        labels = h5py.File(label_path)[\"exported_data\"]\n",
    "        tracks = h5py.File(track_path)[\"exported_data\"]\n",
    "        tracking_lines = track(labels, tracks)\n",
    "        well_label = label_path.name.split(\"-\")[0]\n",
    "        well = get_wellspec(well_label, experiment.mfile.wells)\n",
    "        tps = max(map(len, tracking_lines.values()))\n",
    "        rows = [format_row(well, line, idx, tps) for idx, line in enumerate(tracking_lines.values())]\n",
    "        rows = [row for row in rows if row is not None]\n",
    "        writer.writerows(rows)"
   ]
  },
  {
   "cell_type": "code",
   "execution_count": null,
   "id": "4a3aae7a-abb4-452d-8967-406f5bd6556a",
   "metadata": {},
   "outputs": [],
   "source": []
  }
 ],
 "metadata": {
  "kernelspec": {
   "display_name": "barma",
   "language": "python",
   "name": "barma"
  },
  "language_info": {
   "codemirror_mode": {
    "name": "ipython",
    "version": 3
   },
   "file_extension": ".py",
   "mimetype": "text/x-python",
   "name": "python",
   "nbconvert_exporter": "python",
   "pygments_lexer": "ipython3",
   "version": "3.10.5"
  },
  "name": "ilastik_2_barma.ipynb"
 },
 "nbformat": 4,
 "nbformat_minor": 5
}
