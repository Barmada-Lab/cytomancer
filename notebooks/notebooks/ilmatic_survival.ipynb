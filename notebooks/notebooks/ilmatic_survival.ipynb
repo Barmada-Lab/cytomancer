{
 "cells": [
  {
   "cell_type": "markdown",
   "id": "c1963a2b-0f81-45ff-b312-c6517e52e980",
   "metadata": {},
   "source": [
    "<pre>\n",
    "   IL astik\n",
    "auto MATIC\n",
    "</pre>"
   ]
  },
  {
   "cell_type": "code",
   "execution_count": null,
   "id": "e70be375-081b-4da8-9a85-2df763cc4397",
   "metadata": {},
   "outputs": [],
   "source": [
    "%run utils/experiment_chooser.ipynb\n",
    "experiment_chooser.choose()"
   ]
  },
  {
   "cell_type": "code",
   "execution_count": null,
   "id": "a38c3c88-039d-4e57-853b-498b019b8c5f",
   "metadata": {},
   "outputs": [],
   "source": [
    "from improc.processes.ilmatic.core import run_survival_pipeline\n",
    "\n",
    "try:\n",
    "    from notebooks.config.dev import ILASTIK_BINARY\n",
    "except Exception:\n",
    "    from notebooks.config.prod import ILASTIK_BINARY\n",
    "\n",
    "experiment_base = experiment_chooser.fetch_base()\n",
    "\n",
    "run_survival_pipeline(experiment_base, experiment_base, ILASTIK_BINARY)"
   ]
  },
  {
   "cell_type": "code",
   "execution_count": null,
   "id": "30db01f8-275a-4af9-99e0-cc1de04286ca",
   "metadata": {},
   "outputs": [],
   "source": []
  }
 ],
 "metadata": {
  "kernelspec": {
   "display_name": "barma",
   "language": "python",
   "name": "barma"
  },
  "language_info": {
   "codemirror_mode": {
    "name": "ipython",
    "version": 3
   },
   "file_extension": ".py",
   "mimetype": "text/x-python",
   "name": "python",
   "nbconvert_exporter": "python",
   "pygments_lexer": "ipython3",
   "version": "3.10.6"
  }
 },
 "nbformat": 4,
 "nbformat_minor": 5
}
