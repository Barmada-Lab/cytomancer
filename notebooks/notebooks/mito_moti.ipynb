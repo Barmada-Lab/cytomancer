{
 "cells": [
  {
   "cell_type": "markdown",
   "id": "17438813-8e38-448f-ae59-f23ff8d2a4c2",
   "metadata": {},
   "source": [
    "<pre>\n",
    "          ) ) )                           ( ( (\n",
    "        ( ( (                               ) ) )\n",
    "      ) ) )                                  ( ( (\n",
    "   (~~~~~~~~~)                            (~~~~~~~~~)\n",
    "    | POWER |                              | REWOP |\n",
    "    | HOUSE |                              | ESUOH |   \n",
    "    I      _._                            _._      I    \n",
    "    I    /'   `\\                        /`   '\\    I    \n",
    "    I   |   N   |                      |   N   |   I    \n",
    "    f   |   |~~~~~~~~~~~~~~||~~~~~~~~~~~~~~|   |   f    \n",
    "  .'    |   ||~~~~~~~~|    ||    |~~~~~~~~||   |    '.  \n",
    "/'______|___||__###___|____||____|___###__||___|______'\\\n",
    "\n",
    "\n",
    "MITO\n",
    "MOTI lity\n",
    "quantifier\n",
    "\n",
    "</pre>"
   ]
  },
  {
   "cell_type": "code",
   "execution_count": null,
   "id": "1cc9f47b-b0ee-4410-9a4f-5957d97bd657",
   "metadata": {},
   "outputs": [],
   "source": [
    "%run utils/experiment_chooser.ipynb\n",
    "experiment_chooser.choose()"
   ]
  },
  {
   "cell_type": "code",
   "execution_count": null,
   "id": "93c047a3-90c8-4f82-9bc8-cacc365f81d2",
   "metadata": {},
   "outputs": [],
   "source": [
    "from improc.mobility import calc_motility\n",
    "from multiprocessing import Pool\n",
    "from skimage.exposure import rescale_intensity\n",
    "import tifffile\n",
    "import numpy as np\n",
    "import pathlib\n",
    "import csv\n",
    "\n",
    "experiment_base = experiment_chooser.fetch_base()\n",
    "stacks = list((experiment_base / \"processed_imgs\" / \"stacked\").glob(\"*.tif\"))\n",
    "output_path =  pathlib.Path(\"/scratch/motion_hilighted\")\n",
    "if output_path is not None and not output_path.exists():\n",
    "    output_path.mkdir()\n",
    "\n",
    "def proc(stack_path):\n",
    "    vertex = stack_path.name.strip(\".tif\")\n",
    "    try:\n",
    "        stack = tifffile.imread(stack_path)\n",
    "    except:\n",
    "        return None\n",
    "    motility = calc_motility(stack)\n",
    "    if output_path is not None:\n",
    "        rescaled = rescale_intensity(motility[\"motion_hilighted\"], out_range=np.uint8)\n",
    "        tifffile.imwrite(output_path / f\"{vertex}.tif\", rescaled)\n",
    "    return {\n",
    "        \"vertex\": vertex,\n",
    "        \"counts_per_frame\": motility[\"counts_per_frame\"],\n",
    "        \"frac_motile\": motility[\"pct\"]\n",
    "    }\n",
    "\n",
    "rows = []\n",
    "with Pool() as p:\n",
    "    for idx, motile_row in enumerate(p.imap(proc, stacks)):\n",
    "        print(\"\\r\", end=\"\")\n",
    "        print(f\"{idx + 1} / {len(stacks)}\", end=\"\")\n",
    "        if motile_row is not None:\n",
    "            rows.append(motile_row)\n",
    "    \n",
    "with open(experiment_base / \"results\" / \"mito_motility.csv\", \"w\", newline=\"\") as csvfile:\n",
    "    writer = csv.DictWriter(csvfile, [\"vertex\", \"counts_per_frame\", \"frac_motile\"])\n",
    "    writer.writeheader()\n",
    "    writer.writerows(rows)"
   ]
  },
  {
   "cell_type": "code",
   "execution_count": null,
   "id": "3c8ff6c2-722c-4191-b3c2-10753b5e5dee",
   "metadata": {},
   "outputs": [],
   "source": []
  }
 ],
 "metadata": {
  "kernelspec": {
   "display_name": "barma",
   "language": "python",
   "name": "barma"
  },
  "language_info": {
   "codemirror_mode": {
    "name": "ipython",
    "version": 3
   },
   "file_extension": ".py",
   "mimetype": "text/x-python",
   "name": "python",
   "nbconvert_exporter": "python",
   "pygments_lexer": "ipython3",
   "version": "3.10.5"
  }
 },
 "nbformat": 4,
 "nbformat_minor": 5
}
