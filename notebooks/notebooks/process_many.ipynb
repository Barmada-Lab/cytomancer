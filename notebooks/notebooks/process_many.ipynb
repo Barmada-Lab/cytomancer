{
 "cells": [
  {
   "cell_type": "code",
   "execution_count": null,
   "id": "a82b9c04-9a29-4056-926a-fa23033d5cb7",
   "metadata": {},
   "outputs": [],
   "source": [
    "from pathlib import Path\n",
    "from improc.experiment import loader\n",
    "from improc.processes import Filter, Pipeline, BaSiC, Stitch, Stack, Measurement, Measurements\n",
    "from improc.processes.flatfield import RollingBall\n",
    "from improc.processes.brightfield import Brightfield_iNeuron_Preprocess\n",
    "\n",
    "try:\n",
    "    from config import local as config\n",
    "except:\n",
    "    from config import reference as config\n",
    "\n",
    "experiment_names = [\n",
    "    # put your experiments here\n",
    "    \"MBEK0120a\",\n",
    "    \"MBEK0120b\",\n",
    "]\n",
    "\n",
    "pipeline = Pipeline(\n",
    "    BaSiC(),\n",
    "    Stitch(),\n",
    "    Stack(),\n",
    "    Brightfield_iNeuron_Preprocess(),\n",
    ")\n",
    "\n",
    "for name in experiment_names:\n",
    "    print(f\"starting {name}...\")\n",
    "    path = config.EXPERIMENT_DIRECTORY / name\n",
    "    experiment = loader.load_experiment(path, config.SCRATCH_PATH / name).value\n",
    "    pipeline.run(experiment, \"raw_imgs\")"
   ]
  },
  {
   "cell_type": "code",
   "execution_count": null,
   "id": "be373a0b-9ad0-4aa9-9832-d24144f46a53",
   "metadata": {},
   "outputs": [],
   "source": []
  }
 ],
 "metadata": {
  "kernelspec": {
   "display_name": "barma",
   "language": "python",
   "name": "barma"
  },
  "language_info": {
   "codemirror_mode": {
    "name": "ipython",
    "version": 3
   },
   "file_extension": ".py",
   "mimetype": "text/x-python",
   "name": "python",
   "nbconvert_exporter": "python",
   "pygments_lexer": "ipython3",
   "version": "3.10.6"
  }
 },
 "nbformat": 4,
 "nbformat_minor": 5
}
