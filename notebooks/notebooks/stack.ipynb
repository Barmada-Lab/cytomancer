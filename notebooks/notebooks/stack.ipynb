{
 "cells": [
  {
   "cell_type": "code",
   "execution_count": null,
   "id": "d372f541-5642-43e0-aa05-45741b402c1e",
   "metadata": {},
   "outputs": [],
   "source": [
    "%run utils/experiment_chooser.ipynb\n",
    "experiment_chooser.choose()"
   ]
  },
  {
   "cell_type": "code",
   "execution_count": null,
   "id": "f449f381-9af7-4064-bd68-6a623c668758",
   "metadata": {},
   "outputs": [],
   "source": [
    "from collections import defaultdict\n",
    "import tifffile\n",
    "from multiprocessing import Pool\n",
    "import numpy as np\n",
    "from skimage import filters\n",
    "from skimage.exposure import rescale_intensity, adjust_gamma\n",
    "import os\n",
    "from pystackreg import StackReg\n",
    "\n",
    "IN_COLLECTION = \"stitched\"\n",
    "OUT_COLLECTION = \"stacked\"\n",
    "\n",
    "experiment_base = experiment_chooser.fetch_base()\n",
    "\n",
    "os.makedirs(experiment_base / \"processed_imgs\" / OUT_COLLECTION, exist_ok=True)\n",
    "\n",
    "paths = list(experiment_base.glob(f\"processed_imgs/{IN_COLLECTION}/*\"))\n",
    "\n",
    "def get_vertex(path):\n",
    "    label = path.name.split(\".\")[0]\n",
    "    return label.split(\"-\")[0]\n",
    "\n",
    "def get_channel(path):\n",
    "    label = path.name.split(\".\")[0]\n",
    "    return label.split(\"-\")[1]\n",
    "\n",
    "def get_tp(path):\n",
    "    label = path.name.split(\".\")[0]\n",
    "    return int(label.split(\"-\")[-1])\n",
    "\n",
    "def handle_stack(args):\n",
    "    vertex_channel, paths = args\n",
    "    vertex, channel = vertex_channel\n",
    "    paths = sorted(paths, key=get_tp)\n",
    "    stack = np.array([tifffile.imread(path) for path in paths])\n",
    "    sr = StackReg(StackReg.RIGID_BODY)\n",
    "    registered = sr.register_transform_stack(stack, reference='first')\n",
    "    rl, rh = np.percentile(registered.flatten(), (0.1, 99.9))\n",
    "    rescaled = np.array([rescale_intensity(img, in_range=(rl, rh), out_range=np.uint16) for img in registered])\n",
    "    out_path = experiment_base / \"processed_imgs\" / OUT_COLLECTION / f\"{vertex}-{channel}.tif\"\n",
    "    tifffile.imwrite(out_path, rescaled)"
   ]
  },
  {
   "cell_type": "code",
   "execution_count": null,
   "id": "20986374-5a37-4b04-9236-664ed9c67ebc",
   "metadata": {},
   "outputs": [],
   "source": [
    "groups = defaultdict(list) \n",
    "for path in paths:\n",
    "    vertex = get_vertex(path)\n",
    "    channel = get_channel(path)\n",
    "    groups[(vertex, channel)].append(path)\n",
    "\n",
    "try:\n",
    "    from notebooks.config.prod import CPUS\n",
    "except:\n",
    "    CPUS = os.cpu_count()    \n",
    "\n",
    "with Pool() as p:\n",
    "    for idx, _ in enumerate(p.imap(handle_stack, groups.items())):\n",
    "        print(\"\\r\", end=\"\")\n",
    "        print(f\"Stacked {idx + 1} / {len(groups)}\", end=\"\") "
   ]
  },
  {
   "cell_type": "code",
   "execution_count": null,
   "id": "8aff272c-4599-45f4-8dd5-92c46cfe12dd",
   "metadata": {},
   "outputs": [],
   "source": []
  }
 ],
 "metadata": {
  "kernelspec": {
   "display_name": "barma",
   "language": "python",
   "name": "barma"
  },
  "language_info": {
   "codemirror_mode": {
    "name": "ipython",
    "version": 3
   },
   "file_extension": ".py",
   "mimetype": "text/x-python",
   "name": "python",
   "nbconvert_exporter": "python",
   "pygments_lexer": "ipython3",
   "version": "3.10.6"
  }
 },
 "nbformat": 4,
 "nbformat_minor": 5
}
