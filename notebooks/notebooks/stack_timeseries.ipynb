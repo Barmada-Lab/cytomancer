{
 "cells": [
  {
   "cell_type": "code",
   "execution_count": null,
   "id": "f511bd73-b4f2-4498-ad00-0222f5dd7d7c",
   "metadata": {},
   "outputs": [],
   "source": [
    "%run utils/experiment_chooser.ipynb\n",
    "experiment_chooser.choose()"
   ]
  },
  {
   "cell_type": "code",
   "execution_count": null,
   "id": "00049fcb-beff-44a5-b8c1-204e6e4a893b",
   "metadata": {},
   "outputs": [],
   "source": [
    "import tifffile\n",
    "import numpy as np\n",
    "import pathlib\n",
    "\n",
    "from pystackreg import StackReg\n",
    "from collections import defaultdict\n",
    "from multiprocessing import Pool\n",
    "\n",
    "CHANNEL = \"Cy5\"\n",
    "\n",
    "experiment_base = experiment_chooser.fetch_base()\n",
    "processed_imgs = experiment_base / \"processed_imgs\"\n",
    "if not processed_imgs.exists():\n",
    "    processed_imgs.mkdir()\n",
    "stacked_output = pathlib.Path(\"/scratch\") / \"stacked\"\n",
    "if not stacked_output.exists():\n",
    "    stacked_output.mkdir()\n",
    "\n",
    "def key(path):\n",
    "    _, _, idx = path.name.split(\".\")[0].split(\"_\")\n",
    "    return int(idx)\n",
    "    \n",
    "def stack(paths):\n",
    "    img = np.array([tifffile.imread(path) for path in sorted(paths, key=key)])\n",
    "    sr = StackReg(StackReg.RIGID_BODY)\n",
    "    registered = sr.register_transform_stack(img, reference=\"first\")\n",
    "    tifffile.imwrite(stacked_output / path.name, registered)\n",
    "    \n",
    "inputs = list((experiment_base / \"raw_imgs\" / CHANNEL / \"T1\").glob(\"*/*.tif\"))\n",
    "groups = defaultdict(list)\n",
    "\n",
    "for path in inputs:\n",
    "    vertex = path.name.split(\"_\")[0]\n",
    "    groups[vertex].append(path)\n",
    "    \n",
    "try:\n",
    "    from notebooks.config.prod import CPUS\n",
    "except:\n",
    "    CPUS = None\n",
    "\n",
    "with Pool(CPUS) as p:\n",
    "    for idx, _ in enumerate(p.imap(stack, groups.values())):\n",
    "        print(\"\\r\", end=\"\")\n",
    "        print(f\"Stacked {idx + 1} / {len(groups)}\", end=\"\")"
   ]
  },
  {
   "cell_type": "code",
   "execution_count": null,
   "id": "607bd320-5620-43f3-b006-df6b19a87b0a",
   "metadata": {},
   "outputs": [],
   "source": []
  }
 ],
 "metadata": {
  "kernelspec": {
   "display_name": "barma",
   "language": "python",
   "name": "barma"
  },
  "language_info": {
   "codemirror_mode": {
    "name": "ipython",
    "version": 3
   },
   "file_extension": ".py",
   "mimetype": "text/x-python",
   "name": "python",
   "nbconvert_exporter": "python",
   "pygments_lexer": "ipython3",
   "version": "3.10.5"
  }
 },
 "nbformat": 4,
 "nbformat_minor": 5
}
