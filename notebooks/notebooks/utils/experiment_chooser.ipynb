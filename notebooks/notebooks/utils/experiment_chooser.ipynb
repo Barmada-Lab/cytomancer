{
 "cells": [
  {
   "cell_type": "markdown",
   "id": "481c0b1f-de3a-4cbf-bdca-4ce7bb355e8e",
   "metadata": {},
   "source": [
    "# Experiment Chooser\n",
    "This widget will allow you to select an experiment directory and persist your choice across notebook boundaries. That means you only need to select your experiment once even if you're running analyses in multiple notebooks.\n",
    "\n",
    "import this namespace with the magic command `%run utils/experiment_chooser.ipynb`"
   ]
  },
  {
   "cell_type": "code",
   "execution_count": null,
   "id": "81718b63-998a-4e5b-a6e8-f4d8d981a7ae",
   "metadata": {},
   "outputs": [],
   "source": [
    "from ipyfilechooser import FileChooser\n",
    "from improc.experiment import loader\n",
    "\n",
    "import pathlib\n",
    "\n",
    "class experiment_chooser:\n",
    "    def fetch_base() -> str:\n",
    "        %store -r experiment_base\n",
    "        return experiment_base\n",
    "\n",
    "    def fetch():\n",
    "        %store -r experiment\n",
    "        return experiment\n",
    "\n",
    "    def choose():\n",
    "        try:\n",
    "            import config.local as config\n",
    "        except:\n",
    "            import config.default as config\n",
    "\n",
    "        def verify_experiment_dir(chooser):\n",
    "            path = pathlib.Path(fc.selected_path)\n",
    "            scratch = config.SCRATCH_PATH / path.name\n",
    "            try:\n",
    "                # magic command resolution is weird so we have to define these vars as globals and use them outside the try/except\n",
    "                global experiment; experiment = loader.load_experiment(path, scratch).value\n",
    "                print(experiment)\n",
    "                global experiment_base; experiment_base = path\n",
    "                chooser.title = \"\"\n",
    "            except Exception as e:\n",
    "                chooser.title = f'<b style=\"color:red\">Error: {e}</b>'\n",
    "            %store experiment\n",
    "            %store experiment_base\n",
    "\n",
    "        fc = FileChooser(config.EXPERIMENT_DIRECTORY, show_only_dirs=True)\n",
    "        fc.title = \"<b>Select experiment directory</b>\"\n",
    "        fc.register_callback(verify_experiment_dir)\n",
    "\n",
    "        try:\n",
    "            %store -r experiment_base\n",
    "            fc.default_path = experiment_base\n",
    "            fc.title = \"\"\n",
    "            fc._apply_selection()\n",
    "        except NameError:\n",
    "            pass\n",
    "\n",
    "        display(fc)"
   ]
  },
  {
   "cell_type": "code",
   "execution_count": null,
   "id": "3c0a6382-fbf6-49dc-869b-1f36d8db0d30",
   "metadata": {},
   "outputs": [],
   "source": []
  }
 ],
 "metadata": {
  "kernelspec": {
   "display_name": "barma",
   "language": "python",
   "name": "barma"
  },
  "language_info": {
   "codemirror_mode": {
    "name": "ipython",
    "version": 3
   },
   "file_extension": ".py",
   "mimetype": "text/x-python",
   "name": "python",
   "nbconvert_exporter": "python",
   "pygments_lexer": "ipython3",
   "version": "3.10.6"
  }
 },
 "nbformat": 4,
 "nbformat_minor": 5
}
